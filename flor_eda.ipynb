{
 "cells": [
  {
   "cell_type": "code",
   "execution_count": 1,
   "metadata": {},
   "outputs": [],
   "source": [
    "import pandas as pd\n",
    "import numpy as np\n",
    "import matplotlib.pyplot as plt\n",
    "import seaborn as sns\n",
    "\n",
    "from extra_functions.functions import visualize"
   ]
  },
  {
   "cell_type": "code",
   "execution_count": 2,
   "metadata": {},
   "outputs": [],
   "source": [
    "alijah_data_url = 'https://raw.githubusercontent.com/oconnoag/NHANES_Data/master/compiled_data/alijah_compiled_raw.csv'\n",
    "raw_data = pd.read_csv(alijah_data_url)"
   ]
  },
  {
   "cell_type": "markdown",
   "metadata": {},
   "source": [
    "## Column Renaming"
   ]
  },
  {
   "cell_type": "code",
   "execution_count": 3,
   "metadata": {},
   "outputs": [],
   "source": [
    "processed_data_a = raw_data.copy()"
   ]
  },
  {
   "cell_type": "code",
   "execution_count": 4,
   "metadata": {},
   "outputs": [],
   "source": [
    "processed_data_b = processed_data_a.rename(columns={'HSD010': 'general_health',\n",
    "                                                    'LBXTST': 'testosterone',\n",
    "                                                    'LBXEST': 'estradiol',\n",
    "                                                    'LBXSHBG': 'sex_hormone_binding_globulin',\n",
    "                                                    'LBXGH': 'glycohemoglobin',\n",
    "                                                    'LBXSBU': 'blood_urea_nitrogen',\n",
    "                                                    'LBXSC3SI': 'bicarbonate',\n",
    "                                                    'LBXSCA': 'calcium',\n",
    "                                                    'LBXSCH': 'cholesterol',\n",
    "                                                    'LBXSCLSI': 'chloride', \n",
    "                                                    'LBXSGL': 'glucose',\n",
    "                                                    'LBXSIR': 'iron',\n",
    "                                                    'LBXSKSI': 'potassium',\n",
    "                                                    'LBXSNASI': 'sodium',\n",
    "                                                    'LBXSTP': 'total_protein',\n",
    "                                                    'LBXSTR': 'triglycerides',\n",
    "                                                    'LBXSUA': 'uric_acid'})"
   ]
  },
  {
   "cell_type": "markdown",
   "metadata": {},
   "source": [
    "## Cleaning Data"
   ]
  },
  {
   "cell_type": "code",
   "execution_count": 5,
   "metadata": {},
   "outputs": [
    {
     "name": "stdout",
     "output_type": "stream",
     "text": [
      "<class 'pandas.core.frame.DataFrame'>\n",
      "RangeIndex: 6744 entries, 0 to 6743\n",
      "Data columns (total 18 columns):\n",
      "SEQN        6744 non-null float64\n",
      "HSD010      6166 non-null float64\n",
      "LBXTST      6235 non-null float64\n",
      "LBXEST      6186 non-null float64\n",
      "LBXSHBG     6039 non-null float64\n",
      "LBXGH       6326 non-null float64\n",
      "LBXSBU      6255 non-null float64\n",
      "LBXSC3SI    6257 non-null float64\n",
      "LBXSCA      6257 non-null float64\n",
      "LBXSCH      6254 non-null float64\n",
      "LBXSCLSI    6257 non-null float64\n",
      "LBXSGL      6257 non-null float64\n",
      "LBXSIR      6253 non-null float64\n",
      "LBXSKSI     6257 non-null float64\n",
      "LBXSNASI    6257 non-null float64\n",
      "LBXSTP      6253 non-null float64\n",
      "LBXSTR      6254 non-null float64\n",
      "LBXSUA      6254 non-null float64\n",
      "dtypes: float64(18)\n",
      "memory usage: 948.5 KB\n"
     ]
    }
   ],
   "source": [
    "raw_data.info()"
   ]
  },
  {
   "cell_type": "code",
   "execution_count": 6,
   "metadata": {},
   "outputs": [],
   "source": [
    "processed_data = processed_data_b.copy()"
   ]
  },
  {
   "cell_type": "code",
   "execution_count": 7,
   "metadata": {},
   "outputs": [],
   "source": [
    "# Drop any subject that did not have a particular lab test performed\n",
    "processed_data = processed_data.dropna()"
   ]
  },
  {
   "cell_type": "code",
   "execution_count": 8,
   "metadata": {},
   "outputs": [
    {
     "name": "stdout",
     "output_type": "stream",
     "text": [
      "<class 'pandas.core.frame.DataFrame'>\n",
      "Int64Index: 5503 entries, 0 to 6743\n",
      "Data columns (total 18 columns):\n",
      "SEQN                            5503 non-null float64\n",
      "general_health                  5503 non-null float64\n",
      "testosterone                    5503 non-null float64\n",
      "estradiol                       5503 non-null float64\n",
      "sex_hormone_binding_globulin    5503 non-null float64\n",
      "glycohemoglobin                 5503 non-null float64\n",
      "blood_urea_nitrogen             5503 non-null float64\n",
      "bicarbonate                     5503 non-null float64\n",
      "calcium                         5503 non-null float64\n",
      "cholesterol                     5503 non-null float64\n",
      "chloride                        5503 non-null float64\n",
      "glucose                         5503 non-null float64\n",
      "iron                            5503 non-null float64\n",
      "potassium                       5503 non-null float64\n",
      "sodium                          5503 non-null float64\n",
      "total_protein                   5503 non-null float64\n",
      "triglycerides                   5503 non-null float64\n",
      "uric_acid                       5503 non-null float64\n",
      "dtypes: float64(18)\n",
      "memory usage: 816.9 KB\n"
     ]
    }
   ],
   "source": [
    "processed_data.info()"
   ]
  },
  {
   "cell_type": "markdown",
   "metadata": {},
   "source": [
    "## Data Exploration"
   ]
  },
  {
   "cell_type": "code",
   "execution_count": 9,
   "metadata": {},
   "outputs": [
    {
     "name": "stdout",
     "output_type": "stream",
     "text": [
      "Mean by reported health level:\n"
     ]
    },
    {
     "data": {
      "text/html": [
       "<div>\n",
       "<style scoped>\n",
       "    .dataframe tbody tr th:only-of-type {\n",
       "        vertical-align: middle;\n",
       "    }\n",
       "\n",
       "    .dataframe tbody tr th {\n",
       "        vertical-align: top;\n",
       "    }\n",
       "\n",
       "    .dataframe thead th {\n",
       "        text-align: right;\n",
       "    }\n",
       "</style>\n",
       "<table border=\"1\" class=\"dataframe\">\n",
       "  <thead>\n",
       "    <tr style=\"text-align: right;\">\n",
       "      <th></th>\n",
       "      <th>SEQN</th>\n",
       "      <th>testosterone</th>\n",
       "      <th>estradiol</th>\n",
       "      <th>sex_hormone_binding_globulin</th>\n",
       "      <th>glycohemoglobin</th>\n",
       "      <th>blood_urea_nitrogen</th>\n",
       "      <th>bicarbonate</th>\n",
       "      <th>calcium</th>\n",
       "      <th>cholesterol</th>\n",
       "      <th>chloride</th>\n",
       "      <th>glucose</th>\n",
       "      <th>iron</th>\n",
       "      <th>potassium</th>\n",
       "      <th>sodium</th>\n",
       "      <th>total_protein</th>\n",
       "      <th>triglycerides</th>\n",
       "      <th>uric_acid</th>\n",
       "    </tr>\n",
       "    <tr>\n",
       "      <th>general_health</th>\n",
       "      <th></th>\n",
       "      <th></th>\n",
       "      <th></th>\n",
       "      <th></th>\n",
       "      <th></th>\n",
       "      <th></th>\n",
       "      <th></th>\n",
       "      <th></th>\n",
       "      <th></th>\n",
       "      <th></th>\n",
       "      <th></th>\n",
       "      <th></th>\n",
       "      <th></th>\n",
       "      <th></th>\n",
       "      <th></th>\n",
       "      <th></th>\n",
       "      <th></th>\n",
       "    </tr>\n",
       "  </thead>\n",
       "  <tbody>\n",
       "    <tr>\n",
       "      <th>1.0</th>\n",
       "      <td>88650.736243</td>\n",
       "      <td>260.033795</td>\n",
       "      <td>114.785643</td>\n",
       "      <td>65.573491</td>\n",
       "      <td>5.440987</td>\n",
       "      <td>13.741935</td>\n",
       "      <td>24.611006</td>\n",
       "      <td>9.429222</td>\n",
       "      <td>180.851992</td>\n",
       "      <td>103.451613</td>\n",
       "      <td>92.764706</td>\n",
       "      <td>85.698292</td>\n",
       "      <td>3.968558</td>\n",
       "      <td>138.884250</td>\n",
       "      <td>7.178178</td>\n",
       "      <td>120.601518</td>\n",
       "      <td>5.146300</td>\n",
       "    </tr>\n",
       "    <tr>\n",
       "      <th>2.0</th>\n",
       "      <td>88807.004762</td>\n",
       "      <td>227.253170</td>\n",
       "      <td>84.003008</td>\n",
       "      <td>63.599850</td>\n",
       "      <td>5.500680</td>\n",
       "      <td>13.965986</td>\n",
       "      <td>24.411565</td>\n",
       "      <td>9.406122</td>\n",
       "      <td>184.117007</td>\n",
       "      <td>103.343537</td>\n",
       "      <td>95.736054</td>\n",
       "      <td>84.051701</td>\n",
       "      <td>3.961816</td>\n",
       "      <td>138.721088</td>\n",
       "      <td>7.183537</td>\n",
       "      <td>127.844898</td>\n",
       "      <td>5.203265</td>\n",
       "    </tr>\n",
       "    <tr>\n",
       "      <th>3.0</th>\n",
       "      <td>88669.231010</td>\n",
       "      <td>212.660737</td>\n",
       "      <td>85.921147</td>\n",
       "      <td>58.623530</td>\n",
       "      <td>5.715505</td>\n",
       "      <td>14.046470</td>\n",
       "      <td>24.428954</td>\n",
       "      <td>9.371001</td>\n",
       "      <td>188.300715</td>\n",
       "      <td>103.428954</td>\n",
       "      <td>101.573727</td>\n",
       "      <td>80.497766</td>\n",
       "      <td>3.942413</td>\n",
       "      <td>138.790885</td>\n",
       "      <td>7.200045</td>\n",
       "      <td>153.021001</td>\n",
       "      <td>5.408356</td>\n",
       "    </tr>\n",
       "    <tr>\n",
       "      <th>4.0</th>\n",
       "      <td>88762.909594</td>\n",
       "      <td>198.025720</td>\n",
       "      <td>40.704365</td>\n",
       "      <td>54.229769</td>\n",
       "      <td>6.167343</td>\n",
       "      <td>14.970480</td>\n",
       "      <td>24.440959</td>\n",
       "      <td>9.347140</td>\n",
       "      <td>188.862546</td>\n",
       "      <td>103.062731</td>\n",
       "      <td>115.285055</td>\n",
       "      <td>76.527675</td>\n",
       "      <td>3.956771</td>\n",
       "      <td>138.480627</td>\n",
       "      <td>7.224631</td>\n",
       "      <td>165.987085</td>\n",
       "      <td>5.533579</td>\n",
       "    </tr>\n",
       "    <tr>\n",
       "      <th>5.0</th>\n",
       "      <td>88260.842391</td>\n",
       "      <td>178.419402</td>\n",
       "      <td>30.924924</td>\n",
       "      <td>57.595978</td>\n",
       "      <td>6.534783</td>\n",
       "      <td>16.201087</td>\n",
       "      <td>24.157609</td>\n",
       "      <td>9.360870</td>\n",
       "      <td>182.798913</td>\n",
       "      <td>102.978261</td>\n",
       "      <td>125.711957</td>\n",
       "      <td>67.657609</td>\n",
       "      <td>3.998478</td>\n",
       "      <td>138.293478</td>\n",
       "      <td>7.175000</td>\n",
       "      <td>176.092391</td>\n",
       "      <td>5.534239</td>\n",
       "    </tr>\n",
       "  </tbody>\n",
       "</table>\n",
       "</div>"
      ],
      "text/plain": [
       "                        SEQN  testosterone   estradiol  \\\n",
       "general_health                                           \n",
       "1.0             88650.736243    260.033795  114.785643   \n",
       "2.0             88807.004762    227.253170   84.003008   \n",
       "3.0             88669.231010    212.660737   85.921147   \n",
       "4.0             88762.909594    198.025720   40.704365   \n",
       "5.0             88260.842391    178.419402   30.924924   \n",
       "\n",
       "                sex_hormone_binding_globulin  glycohemoglobin  \\\n",
       "general_health                                                  \n",
       "1.0                                65.573491         5.440987   \n",
       "2.0                                63.599850         5.500680   \n",
       "3.0                                58.623530         5.715505   \n",
       "4.0                                54.229769         6.167343   \n",
       "5.0                                57.595978         6.534783   \n",
       "\n",
       "                blood_urea_nitrogen  bicarbonate   calcium  cholesterol  \\\n",
       "general_health                                                            \n",
       "1.0                       13.741935    24.611006  9.429222   180.851992   \n",
       "2.0                       13.965986    24.411565  9.406122   184.117007   \n",
       "3.0                       14.046470    24.428954  9.371001   188.300715   \n",
       "4.0                       14.970480    24.440959  9.347140   188.862546   \n",
       "5.0                       16.201087    24.157609  9.360870   182.798913   \n",
       "\n",
       "                  chloride     glucose       iron  potassium      sodium  \\\n",
       "general_health                                                             \n",
       "1.0             103.451613   92.764706  85.698292   3.968558  138.884250   \n",
       "2.0             103.343537   95.736054  84.051701   3.961816  138.721088   \n",
       "3.0             103.428954  101.573727  80.497766   3.942413  138.790885   \n",
       "4.0             103.062731  115.285055  76.527675   3.956771  138.480627   \n",
       "5.0             102.978261  125.711957  67.657609   3.998478  138.293478   \n",
       "\n",
       "                total_protein  triglycerides  uric_acid  \n",
       "general_health                                           \n",
       "1.0                  7.178178     120.601518   5.146300  \n",
       "2.0                  7.183537     127.844898   5.203265  \n",
       "3.0                  7.200045     153.021001   5.408356  \n",
       "4.0                  7.224631     165.987085   5.533579  \n",
       "5.0                  7.175000     176.092391   5.534239  "
      ]
     },
     "metadata": {},
     "output_type": "display_data"
    },
    {
     "name": "stdout",
     "output_type": "stream",
     "text": [
      "\n",
      "\n",
      "Standard Deviation by reported health level:\n"
     ]
    },
    {
     "data": {
      "text/html": [
       "<div>\n",
       "<style scoped>\n",
       "    .dataframe tbody tr th:only-of-type {\n",
       "        vertical-align: middle;\n",
       "    }\n",
       "\n",
       "    .dataframe tbody tr th {\n",
       "        vertical-align: top;\n",
       "    }\n",
       "\n",
       "    .dataframe thead th {\n",
       "        text-align: right;\n",
       "    }\n",
       "</style>\n",
       "<table border=\"1\" class=\"dataframe\">\n",
       "  <thead>\n",
       "    <tr style=\"text-align: right;\">\n",
       "      <th></th>\n",
       "      <th>SEQN</th>\n",
       "      <th>testosterone</th>\n",
       "      <th>estradiol</th>\n",
       "      <th>sex_hormone_binding_globulin</th>\n",
       "      <th>glycohemoglobin</th>\n",
       "      <th>blood_urea_nitrogen</th>\n",
       "      <th>bicarbonate</th>\n",
       "      <th>calcium</th>\n",
       "      <th>cholesterol</th>\n",
       "      <th>chloride</th>\n",
       "      <th>glucose</th>\n",
       "      <th>iron</th>\n",
       "      <th>potassium</th>\n",
       "      <th>sodium</th>\n",
       "      <th>total_protein</th>\n",
       "      <th>triglycerides</th>\n",
       "      <th>uric_acid</th>\n",
       "    </tr>\n",
       "    <tr>\n",
       "      <th>general_health</th>\n",
       "      <th></th>\n",
       "      <th></th>\n",
       "      <th></th>\n",
       "      <th></th>\n",
       "      <th></th>\n",
       "      <th></th>\n",
       "      <th></th>\n",
       "      <th></th>\n",
       "      <th></th>\n",
       "      <th></th>\n",
       "      <th></th>\n",
       "      <th></th>\n",
       "      <th></th>\n",
       "      <th></th>\n",
       "      <th></th>\n",
       "      <th></th>\n",
       "      <th></th>\n",
       "    </tr>\n",
       "  </thead>\n",
       "  <tbody>\n",
       "    <tr>\n",
       "      <th>1.0</th>\n",
       "      <td>2900.659413</td>\n",
       "      <td>261.655919</td>\n",
       "      <td>890.316277</td>\n",
       "      <td>64.943437</td>\n",
       "      <td>0.617912</td>\n",
       "      <td>4.375638</td>\n",
       "      <td>2.005343</td>\n",
       "      <td>0.343074</td>\n",
       "      <td>40.231423</td>\n",
       "      <td>2.460531</td>\n",
       "      <td>25.347952</td>\n",
       "      <td>35.974828</td>\n",
       "      <td>0.330139</td>\n",
       "      <td>1.877392</td>\n",
       "      <td>0.408370</td>\n",
       "      <td>93.625400</td>\n",
       "      <td>1.290570</td>\n",
       "    </tr>\n",
       "    <tr>\n",
       "      <th>2.0</th>\n",
       "      <td>2882.676071</td>\n",
       "      <td>246.851098</td>\n",
       "      <td>595.214667</td>\n",
       "      <td>52.442025</td>\n",
       "      <td>0.745351</td>\n",
       "      <td>4.899695</td>\n",
       "      <td>2.082048</td>\n",
       "      <td>0.335920</td>\n",
       "      <td>41.031707</td>\n",
       "      <td>2.713393</td>\n",
       "      <td>28.791398</td>\n",
       "      <td>34.816744</td>\n",
       "      <td>0.328729</td>\n",
       "      <td>2.025643</td>\n",
       "      <td>0.444696</td>\n",
       "      <td>94.005810</td>\n",
       "      <td>1.316230</td>\n",
       "    </tr>\n",
       "    <tr>\n",
       "      <th>3.0</th>\n",
       "      <td>2838.005719</td>\n",
       "      <td>237.837561</td>\n",
       "      <td>649.198642</td>\n",
       "      <td>49.438695</td>\n",
       "      <td>0.968210</td>\n",
       "      <td>5.238145</td>\n",
       "      <td>2.118126</td>\n",
       "      <td>0.348243</td>\n",
       "      <td>42.679313</td>\n",
       "      <td>2.779982</td>\n",
       "      <td>35.974718</td>\n",
       "      <td>33.617823</td>\n",
       "      <td>0.320443</td>\n",
       "      <td>2.069440</td>\n",
       "      <td>0.459767</td>\n",
       "      <td>139.269401</td>\n",
       "      <td>1.415306</td>\n",
       "    </tr>\n",
       "    <tr>\n",
       "      <th>4.0</th>\n",
       "      <td>2850.867975</td>\n",
       "      <td>225.276772</td>\n",
       "      <td>82.973751</td>\n",
       "      <td>36.699891</td>\n",
       "      <td>1.548801</td>\n",
       "      <td>7.231245</td>\n",
       "      <td>2.344562</td>\n",
       "      <td>0.357225</td>\n",
       "      <td>45.368711</td>\n",
       "      <td>3.031953</td>\n",
       "      <td>55.680686</td>\n",
       "      <td>34.325827</td>\n",
       "      <td>0.354041</td>\n",
       "      <td>2.337734</td>\n",
       "      <td>0.462392</td>\n",
       "      <td>122.408048</td>\n",
       "      <td>1.549187</td>\n",
       "    </tr>\n",
       "    <tr>\n",
       "      <th>5.0</th>\n",
       "      <td>2959.972471</td>\n",
       "      <td>233.655279</td>\n",
       "      <td>48.061584</td>\n",
       "      <td>37.492429</td>\n",
       "      <td>1.719349</td>\n",
       "      <td>8.840901</td>\n",
       "      <td>2.728547</td>\n",
       "      <td>0.390308</td>\n",
       "      <td>44.502321</td>\n",
       "      <td>3.676772</td>\n",
       "      <td>69.798842</td>\n",
       "      <td>31.167924</td>\n",
       "      <td>0.369038</td>\n",
       "      <td>2.535165</td>\n",
       "      <td>0.531751</td>\n",
       "      <td>128.743941</td>\n",
       "      <td>1.679927</td>\n",
       "    </tr>\n",
       "  </tbody>\n",
       "</table>\n",
       "</div>"
      ],
      "text/plain": [
       "                       SEQN  testosterone   estradiol  \\\n",
       "general_health                                          \n",
       "1.0             2900.659413    261.655919  890.316277   \n",
       "2.0             2882.676071    246.851098  595.214667   \n",
       "3.0             2838.005719    237.837561  649.198642   \n",
       "4.0             2850.867975    225.276772   82.973751   \n",
       "5.0             2959.972471    233.655279   48.061584   \n",
       "\n",
       "                sex_hormone_binding_globulin  glycohemoglobin  \\\n",
       "general_health                                                  \n",
       "1.0                                64.943437         0.617912   \n",
       "2.0                                52.442025         0.745351   \n",
       "3.0                                49.438695         0.968210   \n",
       "4.0                                36.699891         1.548801   \n",
       "5.0                                37.492429         1.719349   \n",
       "\n",
       "                blood_urea_nitrogen  bicarbonate   calcium  cholesterol  \\\n",
       "general_health                                                            \n",
       "1.0                        4.375638     2.005343  0.343074    40.231423   \n",
       "2.0                        4.899695     2.082048  0.335920    41.031707   \n",
       "3.0                        5.238145     2.118126  0.348243    42.679313   \n",
       "4.0                        7.231245     2.344562  0.357225    45.368711   \n",
       "5.0                        8.840901     2.728547  0.390308    44.502321   \n",
       "\n",
       "                chloride    glucose       iron  potassium    sodium  \\\n",
       "general_health                                                        \n",
       "1.0             2.460531  25.347952  35.974828   0.330139  1.877392   \n",
       "2.0             2.713393  28.791398  34.816744   0.328729  2.025643   \n",
       "3.0             2.779982  35.974718  33.617823   0.320443  2.069440   \n",
       "4.0             3.031953  55.680686  34.325827   0.354041  2.337734   \n",
       "5.0             3.676772  69.798842  31.167924   0.369038  2.535165   \n",
       "\n",
       "                total_protein  triglycerides  uric_acid  \n",
       "general_health                                           \n",
       "1.0                  0.408370      93.625400   1.290570  \n",
       "2.0                  0.444696      94.005810   1.316230  \n",
       "3.0                  0.459767     139.269401   1.415306  \n",
       "4.0                  0.462392     122.408048   1.549187  \n",
       "5.0                  0.531751     128.743941   1.679927  "
      ]
     },
     "execution_count": 9,
     "metadata": {},
     "output_type": "execute_result"
    }
   ],
   "source": [
    "print(\"Mean by reported health level:\")\n",
    "display(processed_data.groupby('general_health').mean())\n",
    "print('\\n')\n",
    "print(\"Standard Deviation by reported health level:\")\n",
    "processed_data.groupby('general_health').std()"
   ]
  },
  {
   "cell_type": "markdown",
   "metadata": {},
   "source": [
    "#### Correlates with general_health\n",
    "with a marked threshold of |0.05| correlative factor with general_health <br>\n",
    "     - testosterone\n",
    "     - sex_hormone_binding_globulin\n",
    "     - glycohemoglobin\n",
    "     - blood_urea_nitrogen\n",
    "     - "
   ]
  },
  {
   "cell_type": "code",
   "execution_count": 10,
   "metadata": {
    "scrolled": false
   },
   "outputs": [
    {
     "data": {
      "text/plain": [
       "<matplotlib.lines.Line2D at 0x10e701940>"
      ]
     },
     "execution_count": 10,
     "metadata": {},
     "output_type": "execute_result"
    },
    {
     "data": {
      "image/png": "[encoded data removed]",
      "text/plain": [
       "<Figure size 432x288 with 1 Axes>"
      ]
     },
     "metadata": {},
     "output_type": "display_data"
    }
   ],
   "source": [
    "(processed_data.corr()['general_health'][2:]).plot.bar()\n",
    "plt.axhline(y = 0.05, linestyle='--')\n",
    "plt.axhline(y = -0.05, linestyle='--')"
   ]
  },
  {
   "cell_type": "code",
   "execution_count": 11,
   "metadata": {},
   "outputs": [
    {
     "data": {
      "text/plain": [
       "testosterone                   -0.073950\n",
       "estradiol                      -0.033828\n",
       "sex_hormone_binding_globulin   -0.070255\n",
       "glycohemoglobin                 0.242788\n",
       "blood_urea_nitrogen             0.080390\n",
       "bicarbonate                    -0.021289\n",
       "calcium                        -0.070835\n",
       "cholesterol                     0.046213\n",
       "chloride                       -0.038238\n",
       "glucose                         0.196994\n",
       "iron                           -0.105885\n",
       "potassium                      -0.003719\n",
       "sodium                         -0.053811\n",
       "total_protein                   0.025567\n",
       "triglycerides                   0.133174\n",
       "uric_acid                       0.092814\n",
       "Name: general_health, dtype: float64"
      ]
     },
     "execution_count": 11,
     "metadata": {},
     "output_type": "execute_result"
    }
   ],
   "source": [
    "processed_data.corr()['general_health'][2:]"
   ]
  },
  {
   "cell_type": "markdown",
   "metadata": {},
   "source": [
    "#### Visualizing Individual Columns with general_health"
   ]
  },
  {
   "cell_type": "code",
   "execution_count": 12,
   "metadata": {},
   "outputs": [
    {
     "data": {
      "image/png": "[encoded data removed]",
      "text/plain": [
       "<Figure size 1080x720 with 4 Axes>"
      ]
     },
     "metadata": {},
     "output_type": "display_data"
    }
   ],
   "source": [
    "visualize(processed_data, 'general_health', 'estradiol')"
   ]
  },
  {
   "cell_type": "markdown",
   "metadata": {},
   "source": [
    "#### Pairplot of variables meeting the 0.05 correlation threshold"
   ]
  },
  {
   "cell_type": "code",
   "execution_count": null,
   "metadata": {},
   "outputs": [],
   "source": []
  }
 ],
 "metadata": {
  "kernelspec": {
   "display_name": "Python 3",
   "language": "python",
   "name": "python3"
  },
  "language_info": {
   "codemirror_mode": {
    "name": "ipython",
    "version": 3
   },
   "file_extension": ".py",
   "mimetype": "text/x-python",
   "name": "python",
   "nbconvert_exporter": "python",
   "pygments_lexer": "ipython3",
   "version": "3.6.4"
  }
 },
 "nbformat": 4,
 "nbformat_minor": 2
}
