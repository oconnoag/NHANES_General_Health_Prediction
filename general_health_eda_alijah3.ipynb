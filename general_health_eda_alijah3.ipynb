{
 "cells": [
  {
   "cell_type": "markdown",
   "metadata": {},
   "source": [
    "<div align='center'>\n",
    "    <h1>Predicting Subjective Accessment of General Health</h1>\n",
    "    Flor Cabral, Alijah O'Connor <br>\n",
    "    CSCI3022 - Data Science, Spring 2019\n",
    "</div>"
   ]
  },
  {
   "cell_type": "code",
   "execution_count": 87,
   "metadata": {},
   "outputs": [],
   "source": [
    "import pandas as pd\n",
    "import numpy as np\n",
    "import matplotlib.pyplot as plt\n",
    "import seaborn as sns\n",
    "\n",
    "import patsy\n",
    "\n",
    "import sklearn\n",
    "from sklearn.neighbors import KNeighborsClassifier\n",
    "from sklearn.linear_model import LogisticRegression, LogisticRegressionCV\n",
    "from sklearn.discriminant_analysis import LinearDiscriminantAnalysis, QuadraticDiscriminantAnalysis\n",
    "import sklearn.model_selection as model_selection\n",
    "from sklearn.ensemble import RandomForestClassifier, VotingClassifier\n",
    "from sklearn.preprocessing import scale\n",
    "from sklearn.utils.class_weight import compute_class_weight\n",
    "from sklearn.metrics import precision_score, balanced_accuracy_score, classification_report\n",
    "\n",
    "\n",
    "# Module for extra functions we wrote\n",
    "from extra_functions.functions import (general_health_reclasser, visualize, visualize_categorical, kde_by_category,\n",
    "                                       print_metrics)"
   ]
  },
  {
   "cell_type": "markdown",
   "metadata": {},
   "source": [
    "# I. Table of Contents\n",
    "<a href='#II.-Introduction'>II. Introduction</a><br>\n",
    "<a href='#III.-Exploring-Laboratory-based-Data'>III. Exploring Laboratory-based Data</a><br>\n",
    "<a href='#IV.-Exploring-Sociological-based-Data'>IV. Exploring Sociological-based Data</a><br>\n",
    "<a href='#V.-Conclusion,-Discussion,-and-Future-Plans'>V. Conclusion, Discussion, and Future Plans</a><br>\n",
    "<a href='#VI.-References'>VI. References</a><br>\n"
   ]
  },
  {
   "cell_type": "markdown",
   "metadata": {},
   "source": [
    "# II. Introduction"
   ]
  },
  {
   "cell_type": "markdown",
   "metadata": {},
   "source": [
    "Assessing subjective feelings (e.g. general health, quality of life, etc) has been an important task in medicine for as long as the profession has existed.  Considering that a core goal in medicine seeks to restore positive subjective perceptions and/or prevent negative subjective perceptions in the subjects, the salience of accurate measurements is not hard to overstate.  As with any subjective assessment, however, a number of biases can introduce a large amount of arbitrary variance to the measurements.  There have been several attempts to standardize measurements of subjective experience using various survey questions--one example is called the Nottingham Health Profile, an attempt to measure \"quality of life\" (Hunt, 1985).  To expand to the existing list of subjective-to-objective mapping, we are attempting to predict a particular subjective measurement (\"General Health\") from CDC health data by building statistical models with laboratory-based data, sociological-based data, and combined subsets of the two.  The general hypothesis for this project is given a certain set of information about a patient, we can determine/predict how they feel about their health (by classifying them into a corresponding category), without explicitly asking them."
   ]
  },
  {
   "cell_type": "markdown",
   "metadata": {},
   "source": [
    "## II.a Data Description"
   ]
  },
  {
   "cell_type": "markdown",
   "metadata": {},
   "source": [
    "#### NHANES Overview\n",
    "The data used in this study is compiled and propogated by the CDC under the program name National Health and Nutrition Examination Survey (which will herein be referred to as NHANES).  The NHANES program operates annually (though with different pools of participants) with the goal of assessing health and nutrition of the denizens of America.  The data produced by the program is unique because it utilizes biochemical laboratory-based methods, questionnaires, diet, external body measures, and demographics.  This abundance of data is attractive for statisticians and data scientists (or students of the fields, like us) for generating models for all sorts of different outcomes using a number of measurements (referred to as features in data science).\n",
    "\n",
    "#### Data acquistion\n",
    "The specific NHANES data used herein is a subset of files and fields from the 2015-2016 collection (https://wwwn.cdc.gov/nchs/nhanes/continuousnhanes/default.aspx?BeginYear=2015).  This is the most recent release of NHANES data, as it takes years for the researchers to organize, clean, and verify the data from a particular year.\n",
    "As noted previously, the NHANES data is broken up into several categories (e.g. demographics, laboratory, etc), and each category is subsequently broken up into a number of files which are made up a number of columns corresponding to the particular measurement.  Interestingly, the data files within each category are released to the public in XPT format, which cannot readily be used for analysis in Pandas.  To be able to use these datafiles in our study, we wrote a shell script that coverts the xpt files to csv.  \n",
    "\n",
    "We have placed the converted files in a github repository here: https://github.com/oconnoag/NHANES_Data.  This repository also contains the compiled files, which will be described shortly.  We opted for having separate repositories for the data and the analyses, because (1) if anyone else would like the download the data themselves in csv format, they can easily clone or zip the repository and (2) this architecture allows for easy reading of the csv files from Github, so there is no need for someone to download the entire datasets to their local machine to view our analysis.  \n",
    "\n",
    "#### Selecting intial features to compile for consideration\n",
    "For the compiled data (i.e. the data that we actually analyzed for incorporation in our models), we decided to choose a subset of fators that we surmised would correlate with a subject's general health.  In the data setup files (found here:  https://github.com/oconnoag/NHANES_Data/tree/master/compiled_data), the features we divided between the authors of this study (Alijah and Flor).  Alijah would choose and explore data from the laboratory category, and Flor would choose and explore data from the questionnaire and demographics categories.  By including data from these two disparate fields we get to utilize both quantitative and qualitative features.  What's more, this approach serves as an initial test to target specific factors out of intuition (sort of a proof of concept); however, once these original models are constructed, we may switch gears and generalize our approach by including many more factors.\n",
    "\n",
    "#### General Health\n",
    "The general_health field is originally coded as the \"HSD010\" column in the /Questionnaire/HSQ_I (\"General Health Status\") file.  The measurements come from subjects answering the question:  \"Would you say {your/SP's} health in general is {List Options}?\".  The answers are broken up into 5 levels: 1, 2, 3, 4, 5 corresponding to \"Excellent\", \"Very Good\", \"Good\", \"Fair\", and \"Poor\", respectively.\n",
    "\n",
    "#### Laboratory Features Considered\n",
    "| Filename_NHANES | Filename_Project | Feature_Name_NHANES | Feature_Name_Project | Description |\n",
    "|------|------|------|------|------|\n",
    "|   BIOPRO_I  | standard_biochem_profile | LBXSBU | Blood Urea Nitrogen  | Measured from blood in mg/dL |\n",
    "|   BIOPRO_I  | standard_biochem_profile | LBXSC3SI | Bicarbonate  | Measured from serum in mmol/L |\n",
    "|   BIOPRO_I  | standard_biochem_profile | LBXSCA | Total Calcium | Measured from serum in mg/dL\n",
    "|   BIOPRO_I  | standard_biochem_profile | LBXSCH | Cholesterol | Measured from serum in mg/dL\n",
    "|   BIOPRO_I  | standard_biochem_profile | LBXSCLSI | Chloride | Measured from serum in mmol/L\n",
    "|   BIOPRO_I  | standard_biochem_profile | LBXSGL | Glucose | Measured from serum in mg/dL\n",
    "|   BIOPRO_I  | standard_biochem_profile | LBXSIR | Iron | Measured from serum in ug/dL\n",
    "|   BIOPRO_I  | standard_biochem_profile  | LBXSKSI | Potassium | Measured from serum in mmol/L\n",
    "|   BIOPRO_I  | standard_biochem_profile  | LBXSNASI | Sodium | Measured from serum in mmol/L\n",
    "|   BIOPRO_I  | standard_biochem_profile  | LBXSTP | Total Protein | Measured from serum in g/dL\n",
    "|   BIOPRO_I  | standard_biochem_profile  | LBXSTR | Triglycerides | Measured from serum in mg/dL\n",
    "|   BIOPRO_I  | standard_biochem_profile  | LBXSUA | Uric acid | Measured from serum in mg/dL\n",
    "|   TST_I  | sex_steroid_hormone | \tLBXTST | Testosterone | Measured from serum in ng/dL\n",
    "|   TST_I  | sex_steroid_hormone | \tLBXEST | Estradiol | Measured from serum in pg/dL\n",
    "|   TST_I  | sex_steroid_hormone | LBXSHBG | Sex Hormone Binding Globulin (SHBG) | Measured from serum in nmol/L\n",
    "|   GHB_I  | glycohemoglobin | LBXGH | glycohemoglobin | Measured from serum as a percentage (%)\n",
    "\n",
    "\n",
    "#### Questionnaire/Demographic Features\n",
    "\n",
    "| Filename_NHANES | Filename_Project | Feature_Name_NHANES | Feature_Name_Project | Description |\n",
    "|------|------|------|------|------|\n",
    "|   DEMO_I  | demographics | RIDAGEYR | Age  | Age in years |\n",
    "|   DEMO_I  | demographics | DMDHHSIZ | People in Household  | Values range 1-7 |\n",
    "|   DEMO_I  | demographics | INDHHIN2 | Annual household income | Values range 1-15, representing incomes 0 to $100,000+\n",
    "|   DBQ_I  | diet_and_behavior | DBQ700 | Healthy Diet | Values range from 1-5\n",
    "|   DBQ_I  | diet_and_behavior | DBD900 | Number of fast food meals past 7 days | Values range from 0 to 21+\n",
    "|   DBQ_I  | diet_and_behavior | DBD910 | Number of frozen meals past 30 days | Values range from 0 to 90+\n",
    "|   PAQ_I  | physical_activity | PAQ635 | Walk or bike | Answers are Y/N\n",
    "|   PAQ_I  | physical_activity  | PAQ650 | Vigorous recreational activities per week | Answers are Y/N\n",
    "|   PAQ_I  | physical_activity  | PAQ680 | Minutes of sedentary activity per day | Values range from 0 to 1380\n",
    "|   BMX_I  | body_measures  | BMXBMI | Body Mass Index | Measured in kg/m**2"
   ]
  },
  {
   "cell_type": "markdown",
   "metadata": {},
   "source": [
    "## II.b Analysis/Modeling Descriptions"
   ]
  },
  {
   "cell_type": "markdown",
   "metadata": {},
   "source": [
    "#### Data Cleaning\n",
    "In order to be able to use our data for model generation (and some visualizations like pairplot), there cannot be nan values in any of the columns.  This led to removing some initial features that didn't have enough datapoints from the start. We also removed any conceptually meaningless values from our sets, such as \"Don't know\" and \"Refused\". Once we had features from files that had a sufficient # of entries (>6000), we removed all entries that contain any nan values.  For the laboratory set, this reduced the size to ~5500 complete subject profiles. For the sociological/demographic set, the size was reduced to ~4000. Outlier culling was not undertaken in this part of the project, because we don't know just how particular values will affect the construction of the models.  Biology is messy, so it's difficult to determine what constitutes an outlier; however, we may pick some threshold for distance (in standard deviations from the mean) if certain values seem to be skewing the data in drastic ways (like perhaps glucose measurements).\n",
    "\n",
    "#### Feature Culling\n",
    "To better focus our attention on certain features, we employed a method of culling the number of features based on the correlation coefficients between each feature and the response variable, 'general_health.'  A threshold of |0.05| was chosen arbitrarily to remove a number of features from the analysis.  \n",
    "\n",
    "#### Analysis\n",
    "For each feature in each set of data (i.e. lab or sociological), visualizations were generated to better understand how the data is distributed in each class and also to see the relationship between a feature and 'general_health.'  What's more, a colinearity/inter-feature-correlation assessment was conducted for each using pairplots and heatmaps.\n",
    "Note that a external module was utilized for modularizing/organizing this project, so details regarding some of the visualizations can only be found within the modules (extra_functions).\n",
    "\n",
    "#### Possible Models\n",
    "Our approach lends it well to classificiation, in the machine learning parlance, and because this is a multi-level classification problem, a couple of different models could be considered including K-Nearest Neighbors, logistic regression, discriminant analyses, or even a Random Forest:\n",
    "\n",
    "* **K-Nearest Neighbors (KNN)** - If we are going to build this model, we'll have to reduce our feature sets to avoid the so-called \"curse of dimensionality\" (the fact that KNN typically does not perform well with many data points from many features due to its reliance on \"locality\").\n",
    "\n",
    "\n",
    "* **Logistic Regression** - \n",
    "\n",
    "\n",
    "* **Discriminant Analyses** -  Discriminant Analyses are similiar in setup as Logistic Regression, except they use Bayesian stastistics to determine their classifications. This is one of the most popular approaches for classification problems dealing with more than two classes.  One interesting feature of a discriminant analysis is the the discriminant plot, which can plot the classification bounds in K - 1 dimensional space (where K is the number of classes being considered).  In our problem here, since we have 5 classes, a 4D would be hard to visualize; however, there are techniques for reducing the space to a \"best\" 2D plot.  Moreover, if we were to reduce the number of classes to 3 (say, Levels 1-2 become \"Above Average\", Level 3 becomes \"Average\", and levels 4-5 become \"Below Average\"), then we can easily see how our classification boundaries are being drawn.  More on class reduction in the discussion section.\n",
    "    - One concern with performing a Linear or Quadratic Discriminant Analysis is the normality assumption of the data within each class.  Some of the features in the datasets appear to be \"non-exactly normal\" (at least by themselves).  However, It is difficult to assess the multinormality of the data (especially with many features).  This facet doesn't prohibit us from using a normality-assuming discriminant analysis; however, we way never reach an optimal solution with these models.\n",
    "    \n",
    "\n",
    "* **Random Forest** - a technique that extends on another technique called a decision tree.  Decision trees on their own tend to be very good at working with the training data, but are generally less great with the test data (i.e. they overfit the training data).  Random Forests provide a method for taking the predictive power of a decision tree while adding flexibility to it by using another technique called bagging (<u>b</u>ootstrapping the data and <u>ag</u>gregat<u>ing</u>).  Breifly, the process refers to simulating new data from the original data and then creating many decision trees with a certain subset of the total features (hence the name, Random Forest).  Using all of those decision trees, new data can be inputted and adjudicated (classified) by the the jury of trees in the forest.  The class with the highest number of votes gets the classification.  Interestingly, one can obtain an \"Feature Importance\" report from many popular machine learning packages when generating Random Forests, allowing one to assess the contribution of each of the features to the classifications (Donges, 2018).\n",
    "    - Since this is a technique that was not covered in our class, some of the aspects of Decision Trees will need to be figured out by the team including handling of continuous features (since many of the features in the NHANES Data are continuous) and construction, tuning, & optimization in Python.\n",
    "\n",
    "Moreover, as mentioned previously, we are looking to build different models in sets using (a) laboratory data only, (b) sociological data only, and (c) finally the combined datasets.\n"
   ]
  },
  {
   "cell_type": "markdown",
   "metadata": {},
   "source": [
    "# III. Exploring Laboratory-based Data"
   ]
  },
  {
   "cell_type": "code",
   "execution_count": 2,
   "metadata": {},
   "outputs": [],
   "source": [
    "lab_data_url = 'https://raw.githubusercontent.com/oconnoag/NHANES_Data/master/compiled_data/alijah_compiled_raw.csv'\n",
    "lab_raw_data = pd.read_csv(lab_data_url)"
   ]
  },
  {
   "cell_type": "markdown",
   "metadata": {},
   "source": [
    "### Data Preprocessing"
   ]
  },
  {
   "cell_type": "markdown",
   "metadata": {},
   "source": [
    "#### Column Renaming"
   ]
  },
  {
   "cell_type": "code",
   "execution_count": 3,
   "metadata": {},
   "outputs": [],
   "source": [
    "lab_processed_data_a = lab_raw_data.copy()"
   ]
  },
  {
   "cell_type": "code",
   "execution_count": 4,
   "metadata": {},
   "outputs": [],
   "source": [
    "lab_processed_data_b = lab_processed_data_a.rename(columns={'HSD010': 'general_health',\n",
    "                                                    'LBXTST': 'testosterone',\n",
    "                                                    'LBXEST': 'estradiol',\n",
    "                                                    'LBXSHBG': 'sex_hormone_binding_globulin',\n",
    "                                                    'LBXGH': 'glycohemoglobin',\n",
    "                                                    'LBXSBU': 'blood_urea_nitrogen',\n",
    "                                                    'LBXSC3SI': 'bicarbonate',\n",
    "                                                    'LBXSCA': 'calcium',\n",
    "                                                    'LBXSCH': 'cholesterol',\n",
    "                                                    'LBXSCLSI': 'chloride', \n",
    "                                                    'LBXSGL': 'glucose',\n",
    "                                                    'LBXSIR': 'iron',\n",
    "                                                    'LBXSKSI': 'potassium',\n",
    "                                                    'LBXSNASI': 'sodium',\n",
    "                                                    'LBXSTP': 'total_protein',\n",
    "                                                    'LBXSTR': 'triglycerides',\n",
    "                                                    'LBXSUA': 'uric_acid'})"
   ]
  },
  {
   "cell_type": "code",
   "execution_count": 5,
   "metadata": {},
   "outputs": [],
   "source": [
    "lab_processed_data_c = lab_processed_data_b.copy()\n",
    "lab_processed_data_c['general_health'] = lab_processed_data_b['general_health']\\\n",
    "                                            .apply(lambda x: general_health_reclasser(x))"
   ]
  },
  {
   "cell_type": "markdown",
   "metadata": {},
   "source": [
    "#### Cleaning Data"
   ]
  },
  {
   "cell_type": "code",
   "execution_count": 6,
   "metadata": {},
   "outputs": [
    {
     "name": "stdout",
     "output_type": "stream",
     "text": [
      "<class 'pandas.core.frame.DataFrame'>\n",
      "RangeIndex: 6744 entries, 0 to 6743\n",
      "Data columns (total 18 columns):\n",
      "SEQN        6744 non-null float64\n",
      "HSD010      6166 non-null float64\n",
      "LBXTST      6235 non-null float64\n",
      "LBXEST      6186 non-null float64\n",
      "LBXSHBG     6039 non-null float64\n",
      "LBXGH       6326 non-null float64\n",
      "LBXSBU      6255 non-null float64\n",
      "LBXSC3SI    6257 non-null float64\n",
      "LBXSCA      6257 non-null float64\n",
      "LBXSCH      6254 non-null float64\n",
      "LBXSCLSI    6257 non-null float64\n",
      "LBXSGL      6257 non-null float64\n",
      "LBXSIR      6253 non-null float64\n",
      "LBXSKSI     6257 non-null float64\n",
      "LBXSNASI    6257 non-null float64\n",
      "LBXSTP      6253 non-null float64\n",
      "LBXSTR      6254 non-null float64\n",
      "LBXSUA      6254 non-null float64\n",
      "dtypes: float64(18)\n",
      "memory usage: 948.5 KB\n"
     ]
    }
   ],
   "source": [
    "lab_raw_data.info()"
   ]
  },
  {
   "cell_type": "code",
   "execution_count": 7,
   "metadata": {},
   "outputs": [],
   "source": [
    "lab_processed_data = lab_processed_data_c.copy()"
   ]
  },
  {
   "cell_type": "code",
   "execution_count": 8,
   "metadata": {},
   "outputs": [],
   "source": [
    "# Drop any subject that did not have a particular lab test performed\n",
    "lab_processed_data = lab_processed_data.dropna()"
   ]
  },
  {
   "cell_type": "code",
   "execution_count": 9,
   "metadata": {},
   "outputs": [
    {
     "name": "stdout",
     "output_type": "stream",
     "text": [
      "<class 'pandas.core.frame.DataFrame'>\n",
      "Int64Index: 5503 entries, 0 to 6743\n",
      "Data columns (total 18 columns):\n",
      "SEQN                            5503 non-null float64\n",
      "general_health                  5503 non-null float64\n",
      "testosterone                    5503 non-null float64\n",
      "estradiol                       5503 non-null float64\n",
      "sex_hormone_binding_globulin    5503 non-null float64\n",
      "glycohemoglobin                 5503 non-null float64\n",
      "blood_urea_nitrogen             5503 non-null float64\n",
      "bicarbonate                     5503 non-null float64\n",
      "calcium                         5503 non-null float64\n",
      "cholesterol                     5503 non-null float64\n",
      "chloride                        5503 non-null float64\n",
      "glucose                         5503 non-null float64\n",
      "iron                            5503 non-null float64\n",
      "potassium                       5503 non-null float64\n",
      "sodium                          5503 non-null float64\n",
      "total_protein                   5503 non-null float64\n",
      "triglycerides                   5503 non-null float64\n",
      "uric_acid                       5503 non-null float64\n",
      "dtypes: float64(18)\n",
      "memory usage: 816.9 KB\n"
     ]
    }
   ],
   "source": [
    "lab_processed_data.info()"
   ]
  },
  {
   "cell_type": "markdown",
   "metadata": {},
   "source": [
    "### Data Exploration"
   ]
  },
  {
   "cell_type": "markdown",
   "metadata": {},
   "source": [
    "#### General Health Distribution\n",
    "- In the 5 level set up, there are many fewer 1's and 5's than 3's"
   ]
  },
  {
   "cell_type": "code",
   "execution_count": 10,
   "metadata": {},
   "outputs": [
    {
     "data": {
      "image/png": "[encoded data removed]",
      "text/plain": [
       "<Figure size 432x288 with 1 Axes>"
      ]
     },
     "metadata": {},
     "output_type": "display_data"
    }
   ],
   "source": [
    "lab_processed_data['general_health'].hist(grid=False, bins=np.arange(0,7,1)-0.5, ec='k')\n",
    "plt.xlim([0,4])\n",
    "plt.title('Breakdown (# of subjects in each)\\n of General Health Levels')\n",
    "plt.ylabel(\"Freq\")\n",
    "plt.xlabel(\"Current Health Level\")\n",
    "plt.xticks(np.arange(1,4), ['1 - Better', '2 - Good', '3 - Worse'],\n",
    "          rotation=90);"
   ]
  },
  {
   "cell_type": "markdown",
   "metadata": {},
   "source": [
    "# Lab Models"
   ]
  },
  {
   "cell_type": "markdown",
   "metadata": {},
   "source": [
    "#### Priors"
   ]
  },
  {
   "cell_type": "code",
   "execution_count": 36,
   "metadata": {},
   "outputs": [
    {
     "name": "stdout",
     "output_type": "stream",
     "text": [
      "2.0    0.406687\n",
      "1.0    0.362893\n",
      "3.0    0.230420\n",
      "Name: general_health, dtype: float64\n"
     ]
    }
   ],
   "source": [
    "lab_priors_pct = lab_selected_features['general_health'].value_counts(normalize=True)\n",
    "print(lab_priors_pct)\n",
    "\n",
    "lab_priors = np.array( [lab_priors_pct.tolist()[1], lab_priors_pct.tolist()[0], lab_priors_pct.tolist()[2]] )"
   ]
  },
  {
   "cell_type": "code",
   "execution_count": 37,
   "metadata": {},
   "outputs": [
    {
     "data": {
      "image/png": "[encoded data removed]",
      "text/plain": [
       "<Figure size 432x288 with 1 Axes>"
      ]
     },
     "metadata": {},
     "output_type": "display_data"
    }
   ],
   "source": [
    "by_chance_pct = []\n",
    "\n",
    "for _ in range(50):\n",
    "    actual = lab_selected_features['general_health']\n",
    "    random_choice = np.random.choice(lab_selected_features['general_health'], size=len(lab_selected_features))\n",
    "    classification_by_chance = pd.DataFrame({'actual': actual, 'random': random_choice})\n",
    "    classification_by_chance['correct'] = classification_by_chance.apply(lambda row: row['actual'] == row['random'],\n",
    "                                                                          axis=1)\n",
    "    by_chance_pct.append(sum(classification_by_chance['correct']) / len(classification_by_chance))\n",
    "\n",
    "plt.plot(by_chance_pct)\n",
    "plt.axhline(np.mean(by_chance_pct), linestyle='--')\n",
    "plt.title(\"Classification by random chance of general_health\\n(50 bootstrapped samples)\\nAvg: \" + str(np.mean(by_chance_pct)));"
   ]
  },
  {
   "cell_type": "code",
   "execution_count": 38,
   "metadata": {},
   "outputs": [],
   "source": [
    "lab_classweights = compute_class_weight('balanced', \n",
    "                                        np.unique(lab_selected_features['general_health']),\n",
    "                                        lab_selected_features['general_health']\n",
    "                                       )\n",
    "\n",
    "# Make classweights into a dictionary\n",
    "lab_cw = {}\n",
    "for cl, cw in zip([1,2,3], lab_classweights):\n",
    "    lab_cw[cl] = cw"
   ]
  },
  {
   "cell_type": "markdown",
   "metadata": {},
   "source": [
    "#### Data Splitting"
   ]
  },
  {
   "cell_type": "code",
   "execution_count": 39,
   "metadata": {},
   "outputs": [
    {
     "data": {
      "text/plain": [
       "Index(['general_health', 'glycohemoglobin', 'glucose', 'triglycerides', 'iron',\n",
       "       'uric_acid', 'blood_urea_nitrogen', 'sex_hormone_binding_globulin',\n",
       "       'calcium', 'testosterone'],\n",
       "      dtype='object')"
      ]
     },
     "execution_count": 39,
     "metadata": {},
     "output_type": "execute_result"
    }
   ],
   "source": [
    "lab_selected_features.columns"
   ]
  },
  {
   "cell_type": "code",
   "execution_count": 40,
   "metadata": {},
   "outputs": [],
   "source": [
    "lab_y, lab_x = patsy.dmatrices('C(general_health, [[1],[2],[3]]) ~ 0 + glycohemoglobin + glucose + triglycerides + iron + uric_acid + blood_urea_nitrogen + testosterone + calcium + sex_hormone_binding_globulin', \n",
    "                               data=lab_selected_features)"
   ]
  },
  {
   "cell_type": "raw",
   "metadata": {},
   "source": [
    "lab_X_train, lab_X_test, lab_y_train, lab_y_test = model_selection.train_test_split(lab_x, \n",
    "                                                                    lab_y,\n",
    "                                                                    train_size=0.75, test_size=0.25,\n",
    "                                                                    )"
   ]
  },
  {
   "cell_type": "markdown",
   "metadata": {},
   "source": [
    "#### Modeling"
   ]
  },
  {
   "cell_type": "code",
   "execution_count": null,
   "metadata": {},
   "outputs": [],
   "source": []
  },
  {
   "cell_type": "markdown",
   "metadata": {},
   "source": [
    "# V. Conclusion, Discussion, and Future Plans"
   ]
  },
  {
   "cell_type": "markdown",
   "metadata": {},
   "source": [
    "To summarize our work thus far, we have obtained raw data from the CDC's NHANES 2015-2016 <a href='https://wwwn.cdc.gov/nchs/nhanes/continuousnhanes/default.aspx?BeginYear=2015'>publicly released repository</a>.  Those files were originally in xpt format, which we converted to csv using a simple shell script -- the generated csv files were stored in a repository on Alijah O'Connor's Github (https://github.com/oconnoag/NHANES_Data).  Features were selected from certain files in this repository by both authors and compiled into csv files, respectively (a list of the features and their original files can be found in the <a href='#II.a-Data-Description'>data description section</a> of this file).  The compiled files are stored in a subdirectory in that same GitHub repo (https://github.com/oconnoag/NHANES_Data/tree/master/compiled_data).  Data Preparation, Cleaning, and Exploratory data analysis (EDA) was performed by each author on our respective compiled datasets, analyzing the features that were selected.  The analysis files for this project can be found in a separate Github repo also on Alijah O'Connor's account (https://github.com/oconnoag/NHANES_General_Health_Prediction).\n",
    "\n",
    "At this point in the project it is difficult to determine which model is going to perform the best with our given data.  KNN, Logistic Regression, Discriminant Analyses, and Random Forests gives a good set to compare with each other; though considering will add a lot of troubleshooting and optimization.  A big concern with all of these models is the fact that there aren't many datapoints in the \"Excellent\" and \"Poor\" categories for 'general_health.'  This may lead to the models trying to maximum overall error rate by sacrificing performance in these categories.  To combat this, we'll likely need to monitor our thresholds for classification into each class, which brings up the more salient question: what kind of performace would be optimal for any of these models?  Obivously, a perfect model (in regards to error rate) is desired, but our models will more than likely not be perfect, so which misclassifications are worse than others?  This question will remain in our scope as we move through the project; however, intuitively, it seems as though a model that does not misclassify the 'poor'-responding individuals often would be desired (since these are the people that most likely to be monitored in a medical setting).  Along those same lines, it is likely less severe to classify the edge 'fair' cases into the 'poor' class, because they may be trending toward needing help themselves.\n",
    "\n",
    "One approach that we disccused earlier was condensing the number of levels in the 'general_health' to 2 or 3 to simple the models without losing all too much information about the patients.  This is an easy transformation in regards to coding, but it will add to analysis, modeling-construction/optimization, and summarizing of the project.  The answer to the question of \"What is optimal performance for this model?\" may change accordingly as well.\n",
    "\n",
    "Another concern with our data is going to be the combined data analysis and modeling, since there are almost guaranteed colinear features that will be introduced into the models.  We should be able to account for some of this colinearity using pairplots/heatmaps/correlation matricies; however, multilinearity is a difficult thing to really grab.  What's more, combining data will reduce our total sample pool to work with (since some individuals may not have lab or sociological results while having results for the other).  This will be especially concerning if the \"Excellent\" and \"Poor\" responding individuals are unproportionately culled in the process.\n",
    "\n",
    "With these in mind, the goals moving forward now are to build the respective models, assess each of their performance, use hyperparameter optimization for improving performance, and interpret the final results.  We may also transform the 'general_health' into 2 or 3 levels and then build and assess new models.  Finally, assuming we have enough time after this first round of modeling, we could load in many more features (as many as we can before too many subjects are removed from the analysis) and build new models for predicting 'general_health.'\n",
    "\n",
    "If mapping subjective experience were easy, no one would be concerned with asking these types of questions in the medical community anymore.  Just as other less reliable measures related to well-being have been stripped from the profession due to advancing techniques and technologies, so too may this subjective assessment of health.  Our initial efforts are promising; however, the models that we will build will really tell the tail--so, let the models talk. "
   ]
  },
  {
   "cell_type": "markdown",
   "metadata": {},
   "source": [
    "# VI. References"
   ]
  },
  {
   "cell_type": "markdown",
   "metadata": {},
   "source": [
    "Hunt, S. M., McEwen, J., & McKenna, S. P. (1985). Measuring health status: a new tool for clinicians and epidemiologists. JR Coll Gen Pract, 35(273), 185-188.\n",
    "\n",
    "Donges, Niklas (2018). The Random Forest Algorithm.  https://towardsdatascience.com/the-random-forest-algorithm-d457d499ffcd\n",
    "\n",
    "Bowne-Anderson, Hugo (2016). Preprocessing in Data Science (Part 1): Centering, Scaling, and KNN. https://www.datacamp.com/community/tutorials/preprocessing-in-data-science-part-1-centering-scaling-and-knn\n",
    "\n",
    "Bowne-Anderson, Hugo (2016). Preprocessing in Data Science (Part 2): Centering, Scaling and Logistic Regression.\n",
    "https://www.datacamp.com/community/tutorials/preprocessing-in-data-science-part-2-centering-scaling-and-logistic-regression"
   ]
  },
  {
   "cell_type": "code",
   "execution_count": null,
   "metadata": {},
   "outputs": [],
   "source": []
  }
 ],
 "metadata": {
  "kernelspec": {
   "display_name": "Python 3",
   "language": "python",
   "name": "python3"
  },
  "language_info": {
   "codemirror_mode": {
    "name": "ipython",
    "version": 3
   },
   "file_extension": ".py",
   "mimetype": "text/x-python",
   "name": "python",
   "nbconvert_exporter": "python",
   "pygments_lexer": "ipython3",
   "version": "3.6.8"
  }
 },
 "nbformat": 4,
 "nbformat_minor": 2
}
